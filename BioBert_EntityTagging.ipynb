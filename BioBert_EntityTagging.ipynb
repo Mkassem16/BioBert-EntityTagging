{
  "nbformat": 4,
  "nbformat_minor": 0,
  "metadata": {
    "colab": {
      "name": "BioBert-EntityTagging.ipynb",
      "provenance": [],
      "collapsed_sections": []
    },
    "kernelspec": {
      "name": "python3",
      "display_name": "Python 3"
    },
    "language_info": {
      "name": "python"
    },
    "accelerator": "GPU"
  },
  "cells": [
    {
      "cell_type": "code",
      "metadata": {
        "id": "hw-iYz6aUHPo"
      },
      "source": [
        "!pip install pytorch-pretrained-bert\n",
        "!pip install transformers"
      ],
      "execution_count": null,
      "outputs": []
    },
    {
      "cell_type": "code",
      "metadata": {
        "colab": {
          "base_uri": "https://localhost:8080/"
        },
        "id": "y_RoURABUc1H",
        "outputId": "e5450edb-bf29-468c-fe83-61ed0660ff2a"
      },
      "source": [
        "import os\n",
        "import re\n",
        "import csv\n",
        "import itertools\n",
        "\n",
        "import nltk\n",
        "nltk.download('punkt')\n",
        "import pandas as pd\n",
        "import numpy as np\n",
        "import seaborn as sns\n",
        "import matplotlib.pyplot as plt\n",
        "from tqdm import tqdm, trange\n",
        "from collections import defaultdict, OrderedDict\n",
        "\n",
        "import torch\n",
        "import torch.nn as nn\n",
        "from torch.utils.data import TensorDataset, DataLoader\n",
        "from torch.utils.data import RandomSampler, SequentialSampler\n",
        "from pytorch_pretrained_bert import BertModel, BertTokenizer, BertConfig\n",
        "from transformers import BertForTokenClassification, AdamW\n",
        "from transformers import get_linear_schedule_with_warmup\n",
        "\n",
        "import tensorflow as tf\n",
        "from keras.preprocessing.sequence import pad_sequences\n",
        "from sklearn.model_selection import train_test_split"
      ],
      "execution_count": 42,
      "outputs": [
        {
          "output_type": "stream",
          "text": [
            "[nltk_data] Downloading package punkt to /root/nltk_data...\n",
            "[nltk_data]   Unzipping tokenizers/punkt.zip.\n"
          ],
          "name": "stdout"
        }
      ]
    },
    {
      "cell_type": "code",
      "metadata": {
        "colab": {
          "base_uri": "https://localhost:8080/"
        },
        "id": "FPuYZWwRUmEs",
        "outputId": "59e3a4c7-1638-4acc-f778-613f64325001"
      },
      "source": [
        "#get GPU device name\n",
        "device_name = tf.test.gpu_device_name()\n",
        "\n",
        "if device_name == '/device:GPU:0':\n",
        "  print('Found GPU at: {}'.format(device_name))\n",
        "else:\n",
        "  raise SystemError('GPU device not found')"
      ],
      "execution_count": 5,
      "outputs": [
        {
          "output_type": "stream",
          "text": [
            "Found GPU at: /device:GPU:0\n"
          ],
          "name": "stdout"
        }
      ]
    },
    {
      "cell_type": "code",
      "metadata": {
        "colab": {
          "base_uri": "https://localhost:8080/"
        },
        "id": "C-u9X6idVAVp",
        "outputId": "78f82ac5-e053-4d09-ac21-3b6b1cf46308"
      },
      "source": [
        "#tell Pytorch to use the GPU if available\n",
        "device = torch.device(\"cuda\" if torch.cuda.is_available() else \"cpu\")\n",
        "\n",
        "print('There are %d GPU(s) available.' % torch.cuda.device_count())\n",
        "print('We will use the GPU:', torch.cuda.get_device_name(0))"
      ],
      "execution_count": 7,
      "outputs": [
        {
          "output_type": "stream",
          "text": [
            "There are 1 GPU(s) available.\n",
            "We will use the GPU: Tesla T4\n"
          ],
          "name": "stdout"
        }
      ]
    },
    {
      "cell_type": "markdown",
      "metadata": {
        "id": "5Pg2wty8Vb_E"
      },
      "source": [
        "Getting biobert & biobert weights"
      ]
    },
    {
      "cell_type": "code",
      "metadata": {
        "id": "4GXBxTaEVWZu"
      },
      "source": [
        "!wget --load-cookies /tmp/cookies.txt \"https://docs.google.com/uc?export=download&confirm=$(wget --quiet --save-cookies /tmp/cookies.txt --keep-session-cookies --no-check-certificate 'https://docs.google.com/uc?export=download&id=1R84voFKHfWV9xjzeLzWBbmY1uOMYpnyD' -O- | sed -rn 's/.*confirm=([0-9A-Za-z_]+).*/\\1\\n/p')&id=1R84voFKHfWV9xjzeLzWBbmY1uOMYpnyD\" -O biobert_weights && rm -rf /tmp/cookies.txt"
      ],
      "execution_count": null,
      "outputs": []
    },
    {
      "cell_type": "code",
      "metadata": {
        "colab": {
          "base_uri": "https://localhost:8080/"
        },
        "id": "tevw0g_fVfM6",
        "outputId": "2659efa5-ac58-4bb8-dd42-8c5b48f4b817"
      },
      "source": [
        "!tar -xzf biobert_weights\n",
        "!ls biobert_v1.1_pubmed/"
      ],
      "execution_count": 9,
      "outputs": [
        {
          "output_type": "stream",
          "text": [
            "bert_config.json\t\t\tmodel.ckpt-1000000.index  vocab.txt\n",
            "model.ckpt-1000000.data-00000-of-00001\tmodel.ckpt-1000000.meta\n"
          ],
          "name": "stdout"
        }
      ]
    },
    {
      "cell_type": "code",
      "metadata": {
        "id": "NAfS3-9VVsqg"
      },
      "source": [
        "!transformers-cli convert --model_type bert --tf_checkpoint biobert_v1.1_pubmed/model.ckpt-1000000 --config biobert_v1.1_pubmed/bert_config.json --pytorch_dump_output biobert_v1.1_pubmed/pytorch_model.bin"
      ],
      "execution_count": null,
      "outputs": []
    },
    {
      "cell_type": "code",
      "metadata": {
        "colab": {
          "base_uri": "https://localhost:8080/"
        },
        "id": "s3XOCWxpV_lp",
        "outputId": "2ece7ceb-35dd-4bee-80cf-a5f625cc9d54"
      },
      "source": [
        "!ls biobert_v1.1_pubmed/\n",
        "!mv biobert_v1.1_pubmed/bert_config.json biobert_v1.1_pubmed/config.json\n",
        "!ls biobert_v1.1_pubmed/"
      ],
      "execution_count": 11,
      "outputs": [
        {
          "output_type": "stream",
          "text": [
            "bert_config.json\t\t\tmodel.ckpt-1000000.meta\n",
            "model.ckpt-1000000.data-00000-of-00001\tpytorch_model.bin\n",
            "model.ckpt-1000000.index\t\tvocab.txt\n",
            "config.json\t\t\t\tmodel.ckpt-1000000.meta\n",
            "model.ckpt-1000000.data-00000-of-00001\tpytorch_model.bin\n",
            "model.ckpt-1000000.index\t\tvocab.txt\n"
          ],
          "name": "stdout"
        }
      ]
    },
    {
      "cell_type": "code",
      "metadata": {
        "colab": {
          "base_uri": "https://localhost:8080/"
        },
        "id": "cpmkas5UWN7z",
        "outputId": "c0bef747-ea56-489c-cdb0-64401e9a42e0"
      },
      "source": [
        "!ls"
      ],
      "execution_count": 12,
      "outputs": [
        {
          "output_type": "stream",
          "text": [
            "biobert_v1.1_pubmed  biobert_weights  sample_data\n"
          ],
          "name": "stdout"
        }
      ]
    },
    {
      "cell_type": "code",
      "metadata": {
        "id": "9Pc_h61yWRki"
      },
      "source": [
        "'/content/drive/MyDrive/DATA_ML/bionlp_tags.csv'"
      ],
      "execution_count": null,
      "outputs": []
    },
    {
      "cell_type": "code",
      "metadata": {
        "id": "8m9rNcfFX31t"
      },
      "source": [
        "MAX_LEN = 75\n",
        "BATCH_SIZE = 32\n",
        "tokenizer = BertTokenizer(vocab_file='biobert_v1.1_pubmed/vocab.txt', do_lower_case=False)"
      ],
      "execution_count": 13,
      "outputs": []
    },
    {
      "cell_type": "code",
      "metadata": {
        "colab": {
          "base_uri": "https://localhost:8080/"
        },
        "id": "9DBoyvHcX5Un",
        "outputId": "f211259d-4167-414f-9c87-3efd76015555"
      },
      "source": [
        "data = pd.read_csv('/content/drive/MyDrive/DATA_ML/bionlp_tags.csv')\n",
        "tag_values = data['tags'].values\n",
        "vocab_len = len(tag_values)\n",
        "print('Entity Types:',vocab_len)"
      ],
      "execution_count": 14,
      "outputs": [
        {
          "output_type": "stream",
          "text": [
            "Entity Types: 74\n"
          ],
          "name": "stdout"
        }
      ]
    },
    {
      "cell_type": "code",
      "metadata": {
        "colab": {
          "base_uri": "https://localhost:8080/"
        },
        "id": "umPspJpjYDe4",
        "outputId": "bf7966c6-fab0-4e08-ecf7-e231a589bd01"
      },
      "source": [
        "df_tags = pd.DataFrame({'tags':tag_values})\n",
        "df_tags.to_csv('bionlp_tags.csv',index=False)\n",
        "df = pd.read_csv('bionlp_tags.csv')\n",
        "print('Tag Preview:\\n', df)"
      ],
      "execution_count": 15,
      "outputs": [
        {
          "output_type": "stream",
          "text": [
            "Tag Preview:\n",
            "                       tags\n",
            "0     I-Cellular_component\n",
            "1   E-Gene_or_gene_product\n",
            "2   I-Organism_subdivision\n",
            "3     I-Organism_substance\n",
            "4   B-Gene_or_gene_product\n",
            "..                     ...\n",
            "69                 I-Organ\n",
            "70                S-Cancer\n",
            "71            B-Amino_acid\n",
            "72     S-Anatomical_system\n",
            "73                     PAD\n",
            "\n",
            "[74 rows x 1 columns]\n"
          ],
          "name": "stdout"
        }
      ]
    },
    {
      "cell_type": "code",
      "metadata": {
        "id": "IyUwRwbBYHef"
      },
      "source": [
        "class SentenceFetch(object):\n",
        "  \n",
        "  def __init__(self, data):\n",
        "    self.data = data\n",
        "    self.sentences = []\n",
        "    self.tags = []\n",
        "    self.sent = []\n",
        "    self.tag = []\n",
        "    \n",
        "    # make tsv file readable\n",
        "    with open(self.data) as tsv_f:\n",
        "      reader = csv.reader(tsv_f, delimiter='\\t')\n",
        "      for row in reader:\n",
        "        if len(row) == 0:\n",
        "          if len(self.sent) != len(self.tag):\n",
        "            break\n",
        "          self.sentences.append(self.sent)\n",
        "          self.tags.append(self.tag)\n",
        "          self.sent = []\n",
        "          self.tag = []\n",
        "        else:\n",
        "          self.sent.append(row[0])\n",
        "          self.tag.append(row[1])   \n",
        "\n",
        "  def getSentences(self):\n",
        "    return self.sentences\n",
        "  \n",
        "  def getTags(self):\n",
        "    return self.tags"
      ],
      "execution_count": 16,
      "outputs": []
    },
    {
      "cell_type": "code",
      "metadata": {
        "id": "ZIp5ispBYPNj"
      },
      "source": [
        "corpora = '/content/drive/MyDrive/DATA_ML/bionlp_corpora'\n",
        "sentences = []\n",
        "tags = []\n",
        "for subdir, dirs, files in os.walk(corpora):\n",
        "    for file in files:\n",
        "        if file == 'train.tsv':\n",
        "            path = os.path.join(subdir, file)\n",
        "            sent = SentenceFetch(path).getSentences()\n",
        "            tag = SentenceFetch(path).getTags()\n",
        "            sentences.extend(sent)\n",
        "            tags.extend(tag)\n",
        "            \n",
        "sentences = sentences[0:20000]\n",
        "tags = tags[0:20000]"
      ],
      "execution_count": 17,
      "outputs": []
    },
    {
      "cell_type": "code",
      "metadata": {
        "colab": {
          "base_uri": "https://localhost:8080/"
        },
        "id": "l8VtJVGKZlU3",
        "outputId": "d5eef398-c1be-4235-fae7-b1273bfb2a88"
      },
      "source": [
        "print('Sentence Preview:\\n',sentences[0])"
      ],
      "execution_count": 18,
      "outputs": [
        {
          "output_type": "stream",
          "text": [
            "Sentence Preview:\n",
            " ['Reactive', 'oxygen', 'intermediate', '-', 'dependent', 'NF', '-', 'kappaB', 'activation', 'by', 'interleukin', '-', '1beta', 'requires', '5', '-', 'lipoxygenase', 'or', 'NADPH', 'oxidase', 'activity', '.']\n"
          ],
          "name": "stdout"
        }
      ]
    },
    {
      "cell_type": "code",
      "metadata": {
        "id": "z_qMe8sLZmKR"
      },
      "source": [
        "def tok_with_labels(sent, text_labels):\n",
        "  '''tokenize and keep labels intact'''\n",
        "  tok_sent = []\n",
        "  labels = []\n",
        "  for word, label in zip(sent, text_labels):\n",
        "    tok_word = tokenizer.tokenize(word)\n",
        "    n_subwords = len(tok_word)\n",
        "\n",
        "    tok_sent.extend(tok_word)\n",
        "    labels.extend([label] * n_subwords)\n",
        "  return tok_sent, labels\n",
        "\n",
        "tok_texts_and_labels = [tok_with_labels(sent, labs) for sent, labs in zip(sentences, tags)]"
      ],
      "execution_count": 19,
      "outputs": []
    },
    {
      "cell_type": "code",
      "metadata": {
        "id": "E_poFJdLZvXT"
      },
      "source": [
        "tok_texts = [tok_label_pair[0] for tok_label_pair in tok_texts_and_labels]\n",
        "labels = [tok_label_pair[1] for tok_label_pair in tok_texts_and_labels]"
      ],
      "execution_count": 21,
      "outputs": []
    },
    {
      "cell_type": "code",
      "metadata": {
        "colab": {
          "base_uri": "https://localhost:8080/"
        },
        "id": "oU_IFFfHZz3P",
        "outputId": "e78a9387-da6c-44f4-913b-57dab88b91b3"
      },
      "source": [
        "len(tok_texts)"
      ],
      "execution_count": 22,
      "outputs": [
        {
          "output_type": "execute_result",
          "data": {
            "text/plain": [
              "20000"
            ]
          },
          "metadata": {
            "tags": []
          },
          "execution_count": 22
        }
      ]
    },
    {
      "cell_type": "code",
      "metadata": {
        "id": "YWKpNAfOZ4m2"
      },
      "source": [
        "input_ids = pad_sequences([tokenizer.convert_tokens_to_ids(txt) for txt in tok_texts],\n",
        "                          maxlen=MAX_LEN, dtype=\"long\", value=0.0,\n",
        "                          truncating=\"post\", padding=\"post\")"
      ],
      "execution_count": 23,
      "outputs": []
    },
    {
      "cell_type": "code",
      "metadata": {
        "colab": {
          "base_uri": "https://localhost:8080/"
        },
        "id": "PFJALWZ5Z76p",
        "outputId": "fcb95817-826e-42fa-9890-358fc0b46d0d"
      },
      "source": [
        "for char in tok_texts:\n",
        "    print('WordPiece Tokenizer Preview:\\n', char)\n",
        "    break"
      ],
      "execution_count": 24,
      "outputs": [
        {
          "output_type": "stream",
          "text": [
            "WordPiece Tokenizer Preview:\n",
            " ['Re', '##active', 'oxygen', 'intermediate', '-', 'dependent', 'N', '##F', '-', 'ka', '##ppa', '##B', 'activation', 'by', 'inter', '##le', '##uki', '##n', '-', '1', '##bet', '##a', 'requires', '5', '-', 'lip', '##ox', '##y', '##gen', '##ase', 'or', 'N', '##AD', '##P', '##H', 'o', '##xi', '##das', '##e', 'activity', '.']\n"
          ],
          "name": "stdout"
        }
      ]
    },
    {
      "cell_type": "code",
      "metadata": {
        "id": "FEzp9ieVaBKG"
      },
      "source": [
        "tag_values = list(set(itertools.chain.from_iterable(tags)))\n",
        "tag_values.append(\"PAD\")\n",
        "\n",
        "tag2idx = {t: i for i,t in enumerate(tag_values)}"
      ],
      "execution_count": 25,
      "outputs": []
    },
    {
      "cell_type": "code",
      "metadata": {
        "id": "MP11A9dmaEzi"
      },
      "source": [
        "tags = pad_sequences([[tag2idx.get(l) for l in lab] for lab in labels],\n",
        "                     maxlen=MAX_LEN, value=tag2idx[\"PAD\"], padding=\"post\",\n",
        "                     dtype=\"long\", truncating=\"post\")"
      ],
      "execution_count": 26,
      "outputs": []
    },
    {
      "cell_type": "code",
      "metadata": {
        "id": "0BnR6CcAaIGe"
      },
      "source": [
        "# attention masks make explicit reference to which tokens are actual words vs padded words\n",
        "attention_masks = [[float(i != 0.0) for i in ii] for ii in input_ids]"
      ],
      "execution_count": 27,
      "outputs": []
    },
    {
      "cell_type": "code",
      "metadata": {
        "id": "DElyKR1maLp8"
      },
      "source": [
        "tr_inputs, val_inputs, tr_tags, val_tags = train_test_split(input_ids, tags,\n",
        "                                                            random_state=2021, test_size=0.1)\n",
        "tr_masks, val_masks, _, _ = train_test_split(attention_masks, input_ids,\n",
        "                                             random_state=2021, test_size=0.1)\n",
        "\n",
        "tr_inputs = torch.tensor(tr_inputs)\n",
        "val_inputs = torch.tensor(val_inputs)\n",
        "tr_tags = torch.tensor(tr_tags)\n",
        "val_tags = torch.tensor(val_tags)\n",
        "tr_masks = torch.tensor(tr_masks)\n",
        "val_masks = torch.tensor(val_masks)"
      ],
      "execution_count": 29,
      "outputs": []
    },
    {
      "cell_type": "code",
      "metadata": {
        "id": "W1_i__kDaNsr"
      },
      "source": [
        "train_data = TensorDataset(tr_inputs, tr_masks, tr_tags)\n",
        "train_sampler = RandomSampler(train_data)\n",
        "train_dataloader = DataLoader(train_data, sampler=train_sampler, batch_size=BATCH_SIZE)\n",
        "\n",
        "valid_data = TensorDataset(val_inputs, val_masks, val_tags)\n",
        "valid_sampler = SequentialSampler(valid_data)\n",
        "valid_dataloader = DataLoader(valid_data, sampler=valid_sampler, batch_size=BATCH_SIZE)"
      ],
      "execution_count": 30,
      "outputs": []
    },
    {
      "cell_type": "code",
      "metadata": {
        "id": "HDinQveaaejY"
      },
      "source": [
        "config = BertConfig.from_json_file('biobert_v1.1_pubmed/config.json')\n",
        "tmp_d = torch.load('biobert_v1.1_pubmed/pytorch_model.bin', map_location=device)\n",
        "state_dict = OrderedDict()\n",
        "\n",
        "for i in list(tmp_d.keys())[:199]:\n",
        "    x = i\n",
        "    if i.find('bert') > -1:\n",
        "        x = '.'.join(i.split('.')[1:])\n",
        "    state_dict[x] = tmp_d[i]"
      ],
      "execution_count": 31,
      "outputs": []
    },
    {
      "cell_type": "code",
      "metadata": {
        "id": "tTd6k_RKang6"
      },
      "source": [
        "class BioBertNER(nn.Module):\n",
        "\n",
        "  def __init__(self, vocab_len, config, state_dict):\n",
        "    super().__init__()\n",
        "    self.bert = BertModel(config)\n",
        "    self.bert.load_state_dict(state_dict, strict=False)\n",
        "    self.dropout = nn.Dropout(p=0.3)\n",
        "    self.output = nn.Linear(self.bert.config.hidden_size, vocab_len)\n",
        "    self.softmax = nn.Softmax(dim=1)\n",
        "\n",
        "  def forward(self, input_ids, attention_mask):\n",
        "    encoded_layer, _ = self.bert(input_ids=input_ids, attention_mask=attention_mask)\n",
        "    encl = encoded_layer[-1]\n",
        "    out = self.dropout(encl)\n",
        "    out = self.output(out)\n",
        "    return out, out.argmax(-1)"
      ],
      "execution_count": 32,
      "outputs": []
    },
    {
      "cell_type": "code",
      "metadata": {
        "id": "U9OTgxlLawC9"
      },
      "source": [
        "model = BioBertNER(vocab_len,config,state_dict)\n",
        "model.to(device)"
      ],
      "execution_count": null,
      "outputs": []
    },
    {
      "cell_type": "code",
      "metadata": {
        "id": "rIGUXKOaa_7m"
      },
      "source": [
        "param_optimizer = list(model.named_parameters())\n",
        "no_decay = ['bias', 'gamma', 'beta']\n",
        "optimizer_grouped_parameters = [\n",
        "        {'params': [p for n, p in param_optimizer if not any(nd in n for nd in no_decay)],\n",
        "         'weight_decay_rate': 0.01},\n",
        "        {'params': [p for n, p in param_optimizer if any(nd in n for nd in no_decay)],\n",
        "         'weight_decay_rate': 0.0}\n",
        "    ]\n",
        "\n",
        "optimizer = AdamW(\n",
        "    optimizer_grouped_parameters,\n",
        "    lr=3e-5,\n",
        "    eps=1e-8\n",
        ")\n",
        "epochs = 3\n",
        "max_grad_norm = 1.0\n",
        "\n",
        "total_steps = len(train_dataloader) * epochs\n",
        "\n",
        "scheduler = get_linear_schedule_with_warmup(\n",
        "    optimizer,\n",
        "    num_warmup_steps=0,\n",
        "    num_training_steps=total_steps\n",
        ")\n",
        "loss_fn = nn.CrossEntropyLoss().to(device)"
      ],
      "execution_count": 34,
      "outputs": []
    },
    {
      "cell_type": "code",
      "metadata": {
        "id": "eCOojpBObC7t"
      },
      "source": [
        "def train_epoch(model,data_loader,loss_fn,optimizer,device,scheduler):\n",
        "    model = model.train()\n",
        "    losses = []\n",
        "    correct_predictions = 0\n",
        "    for step,batch in enumerate(data_loader):\n",
        "        batch = tuple(t.to(device) for t in batch)\n",
        "        b_input_ids, b_input_mask, b_labels = batch\n",
        "        outputs,y_hat = model(b_input_ids,b_input_mask)\n",
        "        \n",
        "        _,preds = torch.max(outputs,dim=2)\n",
        "        outputs = outputs.view(-1,outputs.shape[-1])\n",
        "        b_labels_shaped = b_labels.view(-1)\n",
        "        loss = loss_fn(outputs,b_labels_shaped)\n",
        "        correct_predictions += torch.sum(preds == b_labels)\n",
        "        losses.append(loss.item())\n",
        "        \n",
        "        loss.backward()\n",
        "        torch.nn.utils.clip_grad_norm_(parameters=model.parameters(), max_norm=max_grad_norm)\n",
        "        optimizer.step()\n",
        "        scheduler.step()\n",
        "        optimizer.zero_grad()\n",
        "        \n",
        "    return correct_predictions.double()/len(data_loader) , np.mean(losses)"
      ],
      "execution_count": 35,
      "outputs": []
    },
    {
      "cell_type": "code",
      "metadata": {
        "id": "AJYezUrTbKi_"
      },
      "source": [
        "def model_eval(model,data_loader,loss_fn,device):\n",
        "    model = model.eval()\n",
        "    \n",
        "    losses = []\n",
        "    correct_predictions = 0\n",
        "    \n",
        "    with torch.no_grad():\n",
        "        for step, batch in enumerate(data_loader):\n",
        "            batch = tuple(t.to(device) for t in batch)\n",
        "            b_input_ids, b_input_mask, b_labels = batch\n",
        "        \n",
        "            outputs,y_hat = model(b_input_ids,b_input_mask)\n",
        "        \n",
        "            _,preds = torch.max(outputs,dim=2)\n",
        "            outputs = outputs.view(-1,outputs.shape[-1])\n",
        "            b_labels_shaped = b_labels.view(-1)\n",
        "            loss = loss_fn(outputs,b_labels_shaped)\n",
        "            correct_predictions += torch.sum(preds == b_labels)\n",
        "            losses.append(loss.item())\n",
        "        \n",
        "    \n",
        "    return correct_predictions.double()/len(data_loader) , np.mean(losses)"
      ],
      "execution_count": 36,
      "outputs": []
    },
    {
      "cell_type": "code",
      "metadata": {
        "colab": {
          "base_uri": "https://localhost:8080/"
        },
        "id": "DpeTRpwKbOHX",
        "outputId": "1373359b-2d47-4b16-d30d-a3247d99669d"
      },
      "source": [
        "%%time\n",
        "history = defaultdict(list)\n",
        "best_accuracy = 0\n",
        "normalizer = BATCH_SIZE*MAX_LEN\n",
        "loss_values = []\n",
        "\n",
        "for epoch in range(epochs):\n",
        "    \n",
        "    total_loss = 0\n",
        "    print(f'======== Epoch {epoch+1}/{epochs} ========')\n",
        "    train_acc,train_loss = train_epoch(model,train_dataloader,loss_fn,optimizer,device,scheduler)\n",
        "    train_acc = train_acc/normalizer\n",
        "    print(f'Train Loss: {train_loss} Train Accuracy: {train_acc}')\n",
        "    total_loss += train_loss.item()\n",
        "    \n",
        "    avg_train_loss = total_loss / len(train_dataloader)  \n",
        "    loss_values.append(avg_train_loss)\n",
        "    \n",
        "    val_acc,val_loss = model_eval(model,valid_dataloader,loss_fn,device)\n",
        "    val_acc = val_acc/normalizer\n",
        "    print(f'Val Loss: {val_loss} Val Accuracy: {val_acc}')\n",
        "    \n",
        "    history['train_loss'].append(train_loss)\n",
        "    history['train_acc'].append(train_acc)\n",
        "    \n",
        "    history['val_loss'].append(val_loss)\n",
        "    history['val_acc'].append(val_acc)"
      ],
      "execution_count": 37,
      "outputs": [
        {
          "output_type": "stream",
          "text": [
            "======== Epoch 1/3 ========\n",
            "Train Loss: 0.15064973180342736 Train Accuracy: 0.9563291888691534\n",
            "Val Loss: 0.046919943262187264 Val Accuracy: 0.9724338624338625\n",
            "======== Epoch 2/3 ========\n",
            "Train Loss: 0.039140151739186654 Train Accuracy: 0.9819671403197159\n",
            "Val Loss: 0.0396994524709289 Val Accuracy: 0.973478835978836\n",
            "======== Epoch 3/3 ========\n",
            "Train Loss: 0.02930726797599511 Train Accuracy: 0.9846055358200119\n",
            "Val Loss: 0.03774832236388373 Val Accuracy: 0.9739880952380953\n",
            "CPU times: user 7min 38s, sys: 7min 25s, total: 15min 4s\n",
            "Wall time: 15min 4s\n"
          ],
          "name": "stdout"
        }
      ]
    },
    {
      "cell_type": "code",
      "metadata": {
        "colab": {
          "base_uri": "https://localhost:8080/",
          "height": 427
        },
        "id": "oafUAY9ybVEb",
        "outputId": "2d245122-2b90-4ced-cc14-e630e5daec6c"
      },
      "source": [
        "sns.set(style='darkgrid')\n",
        "\n",
        "sns.set(font_scale=1.5)\n",
        "plt.rcParams[\"figure.figsize\"] = (12,6)\n",
        "\n",
        "# learning curve\n",
        "plt.plot(loss_values, 'b-o')\n",
        "\n",
        "plt.title(\"Training loss\")\n",
        "plt.xlabel(\"Epoch\")\n",
        "plt.ylabel(\"Loss\")\n",
        "\n",
        "plt.show()"
      ],
      "execution_count": 38,
      "outputs": [
        {
          "output_type": "display_data",
          "data": {
            "image/png": "[encoded data removed]",
            "text/plain": [
              "<Figure size 864x432 with 1 Axes>"
            ]
          },
          "metadata": {
            "tags": []
          }
        }
      ]
    },
    {
      "cell_type": "markdown",
      "metadata": {
        "id": "8-Yojry-bvgd"
      },
      "source": [
        "#Testing"
      ]
    },
    {
      "cell_type": "code",
      "metadata": {
        "id": "pHQLD0Wobrc_"
      },
      "source": [
        "text = \"\"\"In addition to their essential catalytic role in protein biosynthesis, aminoacyl-tRNA synthetases participate in numerous other functions, including regulation of gene expression and amino acid biosynthesis via transamidation pathways. Herein, we describe a class of aminoacyl-tRNA synthetase-like (HisZ) proteins based on the catalytic core of the contemporary class II histidyl-tRNA synthetase whose members lack aminoacylation activity but are instead essential components of the first enzyme in histidine biosynthesis ATP phosphoribosyltransferase (HisG). Prediction of the function of HisZ in Lactococcus lactis was assisted by comparative genomics, a technique that revealed a link between the presence or the absence of HisZ and a systematic variation in the length of the HisG polypeptide. HisZ is required for histidine prototrophy, and three other lines of evidence support the direct involvement of HisZ in the transferase function. (i) Genetic experiments demonstrate that complementation of an in-frame deletion of HisG from Escherichia coli (which does not possess HisZ) requires both HisG and HisZ from L. lactis. (ii) Coelution of HisG and HisZ during affinity chromatography provides evidence of direct physical interaction. (iii) Both HisG and HisZ are required for catalysis of the ATP phosphoribosyltransferase reaction. This observation of a common protein domain linking amino acid biosynthesis and protein synthesis implies an early connection between the biosynthesis of amino acids and proteins.\"\"\""
      ],
      "execution_count": 39,
      "outputs": []
    },
    {
      "cell_type": "code",
      "metadata": {
        "id": "t0JOiU4zbzTF"
      },
      "source": [
        "sent_text = nltk.sent_tokenize(text)"
      ],
      "execution_count": 43,
      "outputs": []
    },
    {
      "cell_type": "code",
      "metadata": {
        "id": "EN8vee-9b1L-"
      },
      "source": [
        "tokenized_text = []\n",
        "for sentence in sent_text:\n",
        "    tokenized_text.append(nltk.word_tokenize(sentence))"
      ],
      "execution_count": 44,
      "outputs": []
    },
    {
      "cell_type": "code",
      "metadata": {
        "id": "9X_327EZb4EE"
      },
      "source": [
        "def tokenize_and_preserve(sentence):\n",
        "    tokenized_sentence = []\n",
        "    \n",
        "    for word in sentence:\n",
        "        tokenized_word = tokenizer.tokenize(word)   \n",
        "        tokenized_sentence.extend(tokenized_word)\n",
        "\n",
        "    return tokenized_sentence"
      ],
      "execution_count": 45,
      "outputs": []
    },
    {
      "cell_type": "code",
      "metadata": {
        "id": "YdXJ_Y09b6Fw"
      },
      "source": [
        "tok_texts = [\n",
        "    tokenize_and_preserve(sent) for sent in tokenized_text\n",
        "]"
      ],
      "execution_count": 46,
      "outputs": []
    },
    {
      "cell_type": "code",
      "metadata": {
        "id": "2yhVmcOSb8X8"
      },
      "source": [
        "input_ids = [tokenizer.convert_tokens_to_ids(txt) for txt in tok_texts]\n",
        "input_attentions = [[1]*len(in_id) for in_id in input_ids]"
      ],
      "execution_count": 47,
      "outputs": []
    },
    {
      "cell_type": "code",
      "metadata": {
        "id": "q-j9fXQ0b-79"
      },
      "source": [
        "tokens = tokenizer.convert_ids_to_tokens(input_ids[1])\n",
        "new_tokens, new_labels = [], []\n",
        "for token in tokens:\n",
        "    if token.startswith(\"##\"):\n",
        "        new_tokens[-1] = new_tokens[-1] + token[2:]\n",
        "    else:\n",
        "        \n",
        "        new_tokens.append(token)"
      ],
      "execution_count": 48,
      "outputs": []
    },
    {
      "cell_type": "code",
      "metadata": {
        "id": "kyAEUYgTcCp9"
      },
      "source": [
        "actual_sentences = []\n",
        "pred_labels = []\n",
        "for x,y in zip(input_ids,input_attentions):\n",
        "    x = torch.tensor(x).cuda()\n",
        "    y = torch.tensor(y).cuda()\n",
        "    x = x.view(-1,x.size()[-1])\n",
        "    y = y.view(-1,y.size()[-1])\n",
        "    with torch.no_grad():\n",
        "        _,y_hat = model(x,y)\n",
        "    label_indices = y_hat.to('cpu').numpy()\n",
        "    \n",
        "    tokens = tokenizer.convert_ids_to_tokens(x.to('cpu').numpy()[0])\n",
        "    new_tokens, new_labels = [], []\n",
        "    for token, label_idx in zip(tokens, label_indices[0]):\n",
        "        if token.startswith(\"##\"):\n",
        "            new_tokens[-1] = new_tokens[-1] + token[2:]\n",
        "        else:\n",
        "            new_labels.append(tag_values[label_idx])\n",
        "            new_tokens.append(token)\n",
        "    actual_sentences.append(new_tokens)\n",
        "    pred_labels.append(new_labels)"
      ],
      "execution_count": 49,
      "outputs": []
    },
    {
      "cell_type": "code",
      "metadata": {
        "colab": {
          "base_uri": "https://localhost:8080/"
        },
        "id": "4OycsWzxcGPi",
        "outputId": "34d1c755-a87e-4ba4-ddd3-13400506db69"
      },
      "source": [
        "for token, label in zip(actual_sentences, pred_labels):\n",
        "    for t,l in zip(token,label):\n",
        "        print(\"{}\\t{}\".format(t, l))"
      ],
      "execution_count": 50,
      "outputs": [
        {
          "output_type": "stream",
          "text": [
            "In\tO\n",
            "addition\tO\n",
            "to\tO\n",
            "their\tO\n",
            "essential\tO\n",
            "catalytic\tO\n",
            "role\tO\n",
            "in\tO\n",
            "protein\tO\n",
            "biosynthesis\tO\n",
            ",\tO\n",
            "aminoacyl\tO\n",
            "-\tO\n",
            "tRNA\tO\n",
            "synthetases\tO\n",
            "participate\tO\n",
            "in\tO\n",
            "numerous\tO\n",
            "other\tO\n",
            "functions\tO\n",
            ",\tO\n",
            "including\tO\n",
            "regulation\tO\n",
            "of\tO\n",
            "gene\tO\n",
            "expression\tO\n",
            "and\tO\n",
            "amino\tO\n",
            "acid\tO\n",
            "biosynthesis\tO\n",
            "via\tO\n",
            "transamidation\tO\n",
            "pathways\tO\n",
            ".\tO\n",
            "Herein\tO\n",
            ",\tO\n",
            "we\tO\n",
            "describe\tO\n",
            "a\tO\n",
            "class\tO\n",
            "of\tO\n",
            "aminoacyl\tO\n",
            "-\tO\n",
            "tRNA\tO\n",
            "synthetase\tO\n",
            "-\tO\n",
            "like\tO\n",
            "(\tO\n",
            "HisZ\tO\n",
            ")\tO\n",
            "proteins\tO\n",
            "based\tO\n",
            "on\tO\n",
            "the\tO\n",
            "catalytic\tO\n",
            "core\tO\n",
            "of\tO\n",
            "the\tO\n",
            "contemporary\tO\n",
            "class\tO\n",
            "II\tO\n",
            "histidyl\tO\n",
            "-\tO\n",
            "tRNA\tO\n",
            "synthetase\tO\n",
            "whose\tO\n",
            "members\tO\n",
            "lack\tO\n",
            "aminoacylation\tO\n",
            "activity\tO\n",
            "but\tO\n",
            "are\tO\n",
            "instead\tO\n",
            "essential\tO\n",
            "components\tO\n",
            "of\tO\n",
            "the\tO\n",
            "first\tO\n",
            "enzyme\tO\n",
            "in\tO\n",
            "histidine\tO\n",
            "biosynthesis\tO\n",
            "ATP\tO\n",
            "phosphoribosyltransferase\tI-Protein\n",
            "(\tO\n",
            "HisG\tB-Protein\n",
            ")\tO\n",
            ".\tO\n",
            "Prediction\tO\n",
            "of\tO\n",
            "the\tO\n",
            "function\tO\n",
            "of\tO\n",
            "HisZ\tB-Protein\n",
            "in\tO\n",
            "Lactococcus\tO\n",
            "lactis\tO\n",
            "was\tO\n",
            "assisted\tO\n",
            "by\tO\n",
            "comparative\tO\n",
            "genomics\tO\n",
            ",\tO\n",
            "a\tO\n",
            "technique\tO\n",
            "that\tO\n",
            "revealed\tO\n",
            "a\tO\n",
            "link\tO\n",
            "between\tO\n",
            "the\tO\n",
            "presence\tO\n",
            "or\tO\n",
            "the\tO\n",
            "absence\tO\n",
            "of\tO\n",
            "HisZ\tB-Protein\n",
            "and\tO\n",
            "a\tO\n",
            "systematic\tO\n",
            "variation\tO\n",
            "in\tO\n",
            "the\tO\n",
            "length\tO\n",
            "of\tO\n",
            "the\tO\n",
            "HisG\tO\n",
            "polypeptide\tO\n",
            ".\tO\n",
            "HisZ\tB-Protein\n",
            "is\tO\n",
            "required\tO\n",
            "for\tO\n",
            "histidine\tO\n",
            "prototrophy\tO\n",
            ",\tO\n",
            "and\tO\n",
            "three\tO\n",
            "other\tO\n",
            "lines\tO\n",
            "of\tO\n",
            "evidence\tO\n",
            "support\tO\n",
            "the\tO\n",
            "direct\tO\n",
            "involvement\tO\n",
            "of\tO\n",
            "HisZ\tO\n",
            "in\tO\n",
            "the\tO\n",
            "transferase\tO\n",
            "function\tO\n",
            ".\tO\n",
            "(\tO\n",
            "i\tO\n",
            ")\tO\n",
            "Genetic\tO\n",
            "experiments\tO\n",
            "demonstrate\tO\n",
            "that\tO\n",
            "complementation\tO\n",
            "of\tO\n",
            "an\tO\n",
            "in\tO\n",
            "-\tO\n",
            "frame\tO\n",
            "deletion\tO\n",
            "of\tO\n",
            "HisG\tB-Protein\n",
            "from\tO\n",
            "Escherichia\tO\n",
            "coli\tO\n",
            "(\tO\n",
            "which\tO\n",
            "does\tO\n",
            "not\tO\n",
            "possess\tO\n",
            "HisZ\tO\n",
            ")\tO\n",
            "requires\tO\n",
            "both\tO\n",
            "HisG\tO\n",
            "and\tO\n",
            "HisZ\tO\n",
            "from\tO\n",
            "L\tO\n",
            ".\tO\n",
            "lactis\tO\n",
            ".\tO\n",
            "(\tO\n",
            "ii\tO\n",
            ")\tO\n",
            "Coelution\tO\n",
            "of\tO\n",
            "HisG\tO\n",
            "and\tO\n",
            "HisZ\tO\n",
            "during\tO\n",
            "affinity\tO\n",
            "chromatography\tO\n",
            "provides\tO\n",
            "evidence\tO\n",
            "of\tO\n",
            "direct\tO\n",
            "physical\tO\n",
            "interaction\tO\n",
            ".\tO\n",
            "(\tO\n",
            "iii\tO\n",
            ")\tO\n",
            "Both\tO\n",
            "HisG\tO\n",
            "and\tO\n",
            "HisZ\tO\n",
            "are\tO\n",
            "required\tO\n",
            "for\tO\n",
            "catalysis\tO\n",
            "of\tO\n",
            "the\tO\n",
            "ATP\tO\n",
            "phosphoribosyltransferase\tO\n",
            "reaction\tO\n",
            ".\tO\n",
            "This\tO\n",
            "observation\tO\n",
            "of\tO\n",
            "a\tO\n",
            "common\tO\n",
            "protein\tO\n",
            "domain\tO\n",
            "linking\tO\n",
            "amino\tO\n",
            "acid\tO\n",
            "biosynthesis\tO\n",
            "and\tO\n",
            "protein\tO\n",
            "synthesis\tO\n",
            "implies\tO\n",
            "an\tO\n",
            "early\tO\n",
            "connection\tO\n",
            "between\tO\n",
            "the\tO\n",
            "biosynthesis\tO\n",
            "of\tO\n",
            "amino\tO\n",
            "acids\tO\n",
            "and\tO\n",
            "proteins\tO\n",
            ".\tO\n"
          ],
          "name": "stdout"
        }
      ]
    },
    {
      "cell_type": "code",
      "metadata": {
        "id": "HOpDtV60cLG-"
      },
      "source": [
        "model_save = 'BIONER_classifier.pt'\n",
        "path = F\"{model_save}\" \n",
        "torch.save(model.state_dict(), path)"
      ],
      "execution_count": 52,
      "outputs": []
    }
  ]
}